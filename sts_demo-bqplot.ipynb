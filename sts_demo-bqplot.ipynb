{
 "cells": [
  {
   "cell_type": "code",
   "execution_count": 1,
   "metadata": {
    "collapsed": false
   },
   "outputs": [],
   "source": [
    "from __future__ import division, unicode_literals\n",
    "import numpy as np\n",
    "from bqplot import Axis, Bars, Figure, LinearScale, Lines, LogScale, Scatter, Tooltip\n",
    "from collections import namedtuple\n",
    "from ipywidgets import Layout\n",
    "from scipy.ndimage.filters import convolve1d\n",
    "\n",
    "import warnings\n",
    "warnings.filterwarnings('ignore')"
   ]
  },
  {
   "cell_type": "code",
   "execution_count": 2,
   "metadata": {
    "collapsed": false
   },
   "outputs": [
    {
     "name": "stdout",
     "output_type": "stream",
     "text": [
      "0.9.0.b7\n",
      "5.2.2\n"
     ]
    }
   ],
   "source": [
    "import bqplot\n",
    "print(bqplot.__version__)\n",
    "import ipywidgets\n",
    "print(ipywidgets.__version__)"
   ]
  },
  {
   "cell_type": "code",
   "execution_count": 3,
   "metadata": {
    "collapsed": false
   },
   "outputs": [],
   "source": [
    "ACES = np.logspace(np.log10(1e-5), np.log10(1e5), 1000)\n",
    "XMID = 10**0\n",
    "XMAX = 10**4\n",
    "XMIN = 10**-4\n",
    "YMID = 10**0\n",
    "YMAX = 10**4\n",
    "YMIN = 10**-4\n",
    "LO_SLOPE = 0.25\n",
    "HI_SLOPE = 0.25\n",
    "MID_SLOPE = 1.5\n",
    "NKNOTSLOW = 4\n",
    "NKNOTSHIGH = 4\n",
    "COEFSLOW = np.array(\n",
    "    [0,\n",
    "     0,\n",
    "     np.log10(YMIN) + 0.25 *\n",
    "     (np.log10(YMID) - np.log10(YMIN)),\n",
    "     0,\n",
    "     0])\n",
    "COEFSHIGH = np.array(\n",
    "    [0,\n",
    "     0,\n",
    "     np.log10(YMID) + 0.75 *\n",
    "     (np.log10(YMAX) - np.log10(YMID)),\n",
    "     0,\n",
    "     0])\n",
    "\n",
    "\n",
    "def system_tonescale_segmented(aces=ACES,\n",
    "                               xmid=XMID,\n",
    "                               xmax=XMAX,\n",
    "                               xmin=XMIN,\n",
    "                               ymid=YMID,\n",
    "                               ymax=YMAX,\n",
    "                               ymin=YMIN,\n",
    "                               lo_slope=LO_SLOPE,\n",
    "                               hi_slope=HI_SLOPE,\n",
    "                               mid_slope=MID_SLOPE,\n",
    "                               nKnotsLow=NKNOTSLOW,\n",
    "                               nKnotsHigh=NKNOTSHIGH,\n",
    "                               coefsLow=COEFSLOW,\n",
    "                               coefsHigh=COEFSHIGH):\n",
    "    aces = np.asarray(aces)\n",
    "\n",
    "    coefsLow = COEFSLOW if coefsLow is None else coefsLow\n",
    "    coefsHigh = COEFSHIGH if coefsLow is None else coefsHigh\n",
    "\n",
    "    # Textbook monomial to basis-function conversion matrix\n",
    "    m = np.array([[0.5, -1.0,  0.5], [-1.0,  1.0,  0.0], [0.5,  0.5,  0.0]])\n",
    "\n",
    "    # B-spline coefficients are are located at the midpoints of each knot\n",
    "    # interval.\n",
    "\n",
    "    # First B-spline\n",
    "    # Calculate values to be used in application of the B-spline s\n",
    "    knot_xLow = np.linspace(np.log10(xmin), np.log10(xmid), nKnotsLow)\n",
    "    knotIncLow = (knot_xLow[-1] - knot_xLow[0]) / (nKnotsLow - 1)\n",
    "\n",
    "    knot_xHigh = np.linspace(np.log10(xmid), np.log10(xmax), nKnotsHigh)\n",
    "    knotIncHigh = (knot_xHigh[-1] - knot_xHigh[0]) / (nKnotsHigh - 1)\n",
    "\n",
    "    # This block can be commented out if co/kn outputs are not used\n",
    "    coef_xLow = np.linspace(np.log10(xmin) - 0.5 * knotIncLow,\n",
    "                            np.log10(xmid) + 0.5 * knotIncLow, nKnotsLow + 1)\n",
    "    coef_xHigh = np.linspace(np.log10(\n",
    "        xmid) - 0.5 * knotIncHigh, np.log10(xmax) + 0.5 * knotIncHigh, nKnotsHigh + 1)\n",
    "\n",
    "    coefsLow[0] = ((lo_slope * coef_xLow[0]) +\n",
    "                   (np.log10(ymin) - lo_slope * knot_xLow[0]))\n",
    "    coefsLow[1] = ((lo_slope * coef_xLow[1]) +\n",
    "                   (np.log10(ymin) - lo_slope * knot_xLow[0]))\n",
    "\n",
    "    coefsLow[-2] = ((mid_slope * coef_xLow[-2]) +\n",
    "                    (np.log10(ymid) - mid_slope * knot_xLow[-1]))\n",
    "    coefsLow[-1] = ((mid_slope * coef_xLow[-1]) +\n",
    "                    (np.log10(ymid) - mid_slope * knot_xLow[-1]))\n",
    "\n",
    "    coefsHigh[0] = ((mid_slope * coef_xHigh[0]) +\n",
    "                    (np.log10(ymid) - mid_slope * knot_xHigh[0]))\n",
    "    coefsHigh[1] = ((mid_slope * coef_xHigh[1]) +\n",
    "                    (np.log10(ymid) - mid_slope * knot_xHigh[0]))\n",
    "\n",
    "    coefsHigh[-2] = ((hi_slope * coef_xHigh[-2]) +\n",
    "                     (np.log10(ymax) - hi_slope * knot_xHigh[-1]))\n",
    "    coefsHigh[-1] = ((hi_slope * coef_xHigh[-1]) +\n",
    "                     (np.log10(ymax) - hi_slope * knot_xHigh[-1]))\n",
    "\n",
    "    # Parameters calculated from editable parameters:\n",
    "    # Knot_dens is density of the spline at the knots\n",
    "    knot_yLow = convolve1d(coefsLow, [0.5, 0.5])\n",
    "    knot_yHigh = convolve1d(coefsHigh, [0.5, 0.5])\n",
    "\n",
    "    # Calculations\n",
    "\n",
    "    # Check for negatives or zero before taking the log. If negative or zero,\n",
    "    # set to ACESMIN\n",
    "    aces[aces <= 0] = 2**-14\n",
    "\n",
    "    # Allocate an array for the output values\n",
    "    logOut = np.zeros(np.shape(aces))\n",
    "\n",
    "    # Take log of linear input\n",
    "    logAces = np.log10(aces)\n",
    "\n",
    "    indexLow = (logAces <= np.log10(xmin))\n",
    "    indexLowHalf = ((logAces > np.log10(xmin)) & (logAces < np.log10(xmid)))\n",
    "    indexHighHalf = ((logAces >= np.log10(xmid)) & (logAces < np.log10(xmax)))\n",
    "    indexHigh = logAces >= np.log10(xmax)\n",
    "\n",
    "    # For values outside the B-spline range, apply linear extension\n",
    "    logOut[indexLow] = (logAces[indexLow] * lo_slope +\n",
    "                        (np.log10(ymin) - lo_slope * knot_xLow[0]))\n",
    "\n",
    "    # For typical OUT values apply the B-spline curve.\n",
    "    if np.sum(indexLowHalf.astype(int)) > 0:\n",
    "        knot_coord = ((nKnotsLow - 1) *\n",
    "                      (logAces[indexLowHalf] - knot_xLow[0]) /\n",
    "                      (knot_xLow[-1] - knot_xLow[0]))\n",
    "        jLow = knot_coord.astype(int)\n",
    "        tLow = knot_coord - jLow\n",
    "\n",
    "        cfLow = np.array(coefsLow[jLow])\n",
    "        cfLow = np.vstack((cfLow, coefsLow[jLow + 1]))\n",
    "        cfLow = np.vstack((cfLow, coefsLow[jLow + 2]))\n",
    "\n",
    "        monomialsLow = np.array([tLow * tLow, tLow, np.ones(np.size(tLow))])\n",
    "        basisLow = np.dot(m, cfLow)\n",
    "        logOut[indexLowHalf] = np.sum(np.multiply(monomialsLow, basisLow), 0)\n",
    "\n",
    "    # Do the other B-spline for indexHigh\n",
    "    if np.sum(indexHighHalf.astype(int)) > 0:\n",
    "        knot_coord = ((nKnotsHigh - 1) *\n",
    "                      (logAces[indexHighHalf] - knot_xHigh[0]) /\n",
    "                      (knot_xHigh[-1] - knot_xHigh[0]))\n",
    "        jHigh = knot_coord.astype(int)\n",
    "        tHigh = knot_coord - jHigh\n",
    "\n",
    "        cfHigh = np.array(coefsHigh[jHigh])\n",
    "        cfHigh = np.vstack((cfHigh, coefsHigh[jHigh + 1]))\n",
    "        cfHigh = np.vstack((cfHigh, coefsHigh[jHigh + 2]))\n",
    "\n",
    "        monomialsHigh = np.array(\n",
    "            [tHigh * tHigh, tHigh, np.ones(np.size(tHigh))])\n",
    "        basisHigh = np.dot(m, cfHigh)\n",
    "        logOut[indexHighHalf] = np.sum(\n",
    "            np.multiply(monomialsHigh, basisHigh), 0)\n",
    "\n",
    "    # For values outside the B-spline range, apply linear extension\n",
    "    logOut[indexHigh] = (logAces[indexHigh] * hi_slope +\n",
    "                         (np.log10(ymax) - hi_slope * knot_xHigh[-1]))\n",
    "\n",
    "    kn = {'x': np.hstack((knot_xLow, knot_xHigh)),\n",
    "          'y': np.hstack((knot_yLow, knot_yHigh))}\n",
    "\n",
    "    co = {'x': np.hstack((coef_xLow, coef_xHigh)),\n",
    "          'y': np.hstack((coefsLow, coefsHigh))}\n",
    "\n",
    "    out = 10**logOut\n",
    "\n",
    "    return out, kn, co"
   ]
  },
  {
   "cell_type": "code",
   "execution_count": 4,
   "metadata": {
    "collapsed": false,
    "scrolled": false
   },
   "outputs": [
    {
     "name": "stderr",
     "output_type": "stream",
     "text": [
      "The installed widget Javascript is the wrong version.\n"
     ]
    }
   ],
   "source": [
    "SPLINE_SCALE_X = LogScale(min=1e-5, max=1e5)\n",
    "SPLINE_SCALE_Y = LogScale(min=0.00001, max=100000)\n",
    "\n",
    "SPLINE_AXIS_X = Axis(scale=SPLINE_SCALE_X, grid_lines='solid', label='X')\n",
    "SPLINE_AXIS_Y = Axis(scale=SPLINE_SCALE_Y, grid_lines='solid', label='Y', orientation='vertical')\n",
    "\n",
    "SPLINE_LINE = Lines(\n",
    "    x=ACES, \n",
    "    y=system_tonescale_segmented(\n",
    "        ACES, XMID, XMAX, XMIN, YMID, YMAX, YMIN, \n",
    "        LO_SLOPE, HI_SLOPE, MID_SLOPE, \n",
    "        NKNOTSLOW, NKNOTSHIGH, COEFSLOW, COEFSHIGH)[0], \n",
    "    scales={'x': SPLINE_SCALE_X, 'y': SPLINE_SCALE_Y})\n",
    "\n",
    "SPLINE_SCATTER_TOOLTIP = Tooltip(fields=['x', 'y'], formats=['.5f', '.5f'], labels=['x', 'y'])\n",
    "SPLINE_SCATTER = Scatter(\n",
    "    x=[XMIN, XMID, XMAX, XMIN, XMID, XMAX],\n",
    "    y=[YMIN, YMID, YMAX, LO_SLOPE, MID_SLOPE, HI_SLOPE],\n",
    "    colors=['deepskyblue', 'deepskyblue', 'deepskyblue', 'red', 'red', 'red'],\n",
    "    default_opacities=[0.85, 0.85, 0.85, 0.25, 0.25, 0.25],\n",
    "    scales={'x': SPLINE_SCALE_X, 'y': SPLINE_SCALE_Y},\n",
    "    tooltip=SPLINE_SCATTER_TOOLTIP,\n",
    "    enable_move=True,\n",
    "    update_on_move=True)\n",
    "\n",
    "Figure(marks=[SPLINE_LINE, SPLINE_SCATTER], \n",
    "       axes=[SPLINE_AXIS_X, SPLINE_AXIS_Y],\n",
    "       layout=Layout(min_width='960px', min_height='540px'),\n",
    "       title='Spline Interactive')"
   ]
  },
  {
   "cell_type": "code",
   "execution_count": 5,
   "metadata": {
    "collapsed": false
   },
   "outputs": [],
   "source": [
    "def on_spline_scatter_drag(name, value):\n",
    "    SPLINE_LINE.y = system_tonescale_segmented(\n",
    "        ACES, SPLINE_SCATTER.x[1], SPLINE_SCATTER.x[2], SPLINE_SCATTER.x[0], SPLINE_SCATTER.y[1], SPLINE_SCATTER.y[2], SPLINE_SCATTER.y[0],\n",
    "        np.log10(SPLINE_SCATTER.y[3]) - np.log10(LO_SLOPE) + LO_SLOPE, \n",
    "        np.log10(SPLINE_SCATTER.y[5]) - np.log10(HI_SLOPE) + HI_SLOPE, \n",
    "        np.log10(SPLINE_SCATTER.y[4]) - np.log10(MID_SLOPE) + MID_SLOPE,\n",
    "        NKNOTSLOW, NKNOTSHIGH, COEFSLOW, COEFSHIGH)[0]\n",
    "    \n",
    "SPLINE_SCATTER.on_drag_start(on_spline_scatter_drag)\n",
    "SPLINE_SCATTER.on_drag(on_spline_scatter_drag)\n",
    "SPLINE_SCATTER.on_drag_end(on_spline_scatter_drag)"
   ]
  }
 ],
 "metadata": {
  "anaconda-cloud": {},
  "kernelspec": {
   "display_name": "Python [conda env:colour-2.7]",
   "language": "python",
   "name": "conda-env-colour-2.7-py"
  },
  "language_info": {
   "codemirror_mode": {
    "name": "ipython",
    "version": 2
   },
   "file_extension": ".py",
   "mimetype": "text/x-python",
   "name": "python",
   "nbconvert_exporter": "python",
   "pygments_lexer": "ipython2",
   "version": "2.7.12"
  },
  "widgets": {
   "state": {
    "63461068ccbb437dbefd927728664944": {
     "views": [
      {
       "cell_index": 4
      }
     ]
    }
   },
   "version": "1.2.0"
  }
 },
 "nbformat": 4,
 "nbformat_minor": 2
}
